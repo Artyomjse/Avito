{
 "cells": [
  {
   "cell_type": "code",
   "execution_count": 2,
   "metadata": {},
   "outputs": [],
   "source": [
    "import pandas as pd\n",
    "import numpy as np\n",
    "import seaborn as sns\n",
    "import matplotlib.pyplot as plt\n",
    "sns.set()\n",
    "\n",
    "%config InlineBackend.figure_format = 'retina'"
   ]
  },
  {
   "cell_type": "code",
   "execution_count": 3,
   "metadata": {},
   "outputs": [
    {
     "name": "stdout",
     "output_type": "stream",
     "text": [
      "<class 'pandas.core.frame.DataFrame'>\n",
      "RangeIndex: 217533 entries, 0 to 217532\n",
      "Data columns (total 2 columns):\n",
      " #   Column                    Non-Null Count   Dtype \n",
      "---  ------                    --------------   ----- \n",
      " 0   request_id                217414 non-null  object\n",
      " 1   result_mentioned_by_user  217533 non-null  object\n",
      "dtypes: object(2)\n",
      "memory usage: 3.3+ MB\n"
     ]
    }
   ],
   "source": [
    "stf = pd.read_csv('/Users/artyom/Downloads/Task from Avito.BI team/users_evaluation_of_satisfaction.csv')\n",
    "stf.info()"
   ]
  },
  {
   "cell_type": "code",
   "execution_count": 4,
   "metadata": {},
   "outputs": [],
   "source": [
    "sup_t = pd.read_csv('/Users/artyom/Downloads/Task from Avito.BI team/support_tickets.csv')"
   ]
  },
  {
   "cell_type": "code",
   "execution_count": 5,
   "metadata": {},
   "outputs": [
    {
     "data": {
      "text/html": [
       "<div>\n",
       "<style scoped>\n",
       "    .dataframe tbody tr th:only-of-type {\n",
       "        vertical-align: middle;\n",
       "    }\n",
       "\n",
       "    .dataframe tbody tr th {\n",
       "        vertical-align: top;\n",
       "    }\n",
       "\n",
       "    .dataframe thead th {\n",
       "        text-align: right;\n",
       "    }\n",
       "</style>\n",
       "<table border=\"1\" class=\"dataframe\">\n",
       "  <thead>\n",
       "    <tr style=\"text-align: right;\">\n",
       "      <th></th>\n",
       "      <th>user_id</th>\n",
       "      <th>ticket_category</th>\n",
       "      <th>ticket_subcategory</th>\n",
       "      <th>current_state</th>\n",
       "      <th>request_id</th>\n",
       "      <th>activity_start_dt</th>\n",
       "      <th>fact_reaction_dt</th>\n",
       "      <th>result_mentioned_by_user</th>\n",
       "    </tr>\n",
       "  </thead>\n",
       "  <tbody>\n",
       "    <tr>\n",
       "      <th>0</th>\n",
       "      <td>370 518 212</td>\n",
       "      <td>Технические вопросы</td>\n",
       "      <td>Доступ к сайту</td>\n",
       "      <td>Решено</td>\n",
       "      <td>045be6ac-d532-4c20-b1c9-fb82c1737464</td>\n",
       "      <td>2015-11-26 22:56:00</td>\n",
       "      <td>2015-12-03 12:11:00</td>\n",
       "      <td>Хорошо</td>\n",
       "    </tr>\n",
       "    <tr>\n",
       "      <th>1</th>\n",
       "      <td>372 546 513</td>\n",
       "      <td>Технические вопросы</td>\n",
       "      <td>Загрузка фото</td>\n",
       "      <td>Решено</td>\n",
       "      <td>280bf0e6-6c0c-4eb1-b093-ac2eadd20cdb</td>\n",
       "      <td>2015-12-11 13:39:00</td>\n",
       "      <td>2015-12-16 05:20:00</td>\n",
       "      <td>Отлично</td>\n",
       "    </tr>\n",
       "    <tr>\n",
       "      <th>2</th>\n",
       "      <td>369 694 997</td>\n",
       "      <td>Технические вопросы</td>\n",
       "      <td>Доступ к сайту</td>\n",
       "      <td>Решено</td>\n",
       "      <td>045a97f4-4747-45e0-a3a9-441081e06c08</td>\n",
       "      <td>2015-12-17 22:46:00</td>\n",
       "      <td>2015-12-20 20:59:00</td>\n",
       "      <td>Отлично</td>\n",
       "    </tr>\n",
       "    <tr>\n",
       "      <th>3</th>\n",
       "      <td>3 254 820</td>\n",
       "      <td>Технические вопросы</td>\n",
       "      <td>Доступ к сайту</td>\n",
       "      <td>Решено</td>\n",
       "      <td>6d12e450-7aee-4842-b9cf-ee9a2824f892</td>\n",
       "      <td>2015-09-04 12:20:00</td>\n",
       "      <td>2015-09-05 10:02:00</td>\n",
       "      <td>Отлично</td>\n",
       "    </tr>\n",
       "    <tr>\n",
       "      <th>4</th>\n",
       "      <td>366 077 368</td>\n",
       "      <td>Технические вопросы</td>\n",
       "      <td>Доступ к сайту</td>\n",
       "      <td>Решено</td>\n",
       "      <td>f25c8846-9e55-4b15-9a27-6e24ca9e7922</td>\n",
       "      <td>2015-11-11 10:54:00</td>\n",
       "      <td>2015-11-14 08:53:00</td>\n",
       "      <td>Хорошо</td>\n",
       "    </tr>\n",
       "  </tbody>\n",
       "</table>\n",
       "</div>"
      ],
      "text/plain": [
       "       user_id      ticket_category ticket_subcategory current_state  \\\n",
       "0  370 518 212  Технические вопросы     Доступ к сайту        Решено   \n",
       "1  372 546 513  Технические вопросы      Загрузка фото        Решено   \n",
       "2  369 694 997  Технические вопросы     Доступ к сайту        Решено   \n",
       "3    3 254 820  Технические вопросы     Доступ к сайту        Решено   \n",
       "4  366 077 368  Технические вопросы     Доступ к сайту        Решено   \n",
       "\n",
       "                             request_id    activity_start_dt  \\\n",
       "0  045be6ac-d532-4c20-b1c9-fb82c1737464  2015-11-26 22:56:00   \n",
       "1  280bf0e6-6c0c-4eb1-b093-ac2eadd20cdb  2015-12-11 13:39:00   \n",
       "2  045a97f4-4747-45e0-a3a9-441081e06c08  2015-12-17 22:46:00   \n",
       "3  6d12e450-7aee-4842-b9cf-ee9a2824f892  2015-09-04 12:20:00   \n",
       "4  f25c8846-9e55-4b15-9a27-6e24ca9e7922  2015-11-11 10:54:00   \n",
       "\n",
       "      fact_reaction_dt result_mentioned_by_user  \n",
       "0  2015-12-03 12:11:00                   Хорошо  \n",
       "1  2015-12-16 05:20:00                  Отлично  \n",
       "2  2015-12-20 20:59:00                  Отлично  \n",
       "3  2015-09-05 10:02:00                  Отлично  \n",
       "4  2015-11-14 08:53:00                   Хорошо  "
      ]
     },
     "execution_count": 5,
     "metadata": {},
     "output_type": "execute_result"
    }
   ],
   "source": [
    "sup_t_stf = pd.merge(left=sup_t, right=stf, left_on='request_id', right_on='request_id', how='inner')\n",
    "sup_t_stf.head()"
   ]
  },
  {
   "cell_type": "code",
   "execution_count": 6,
   "metadata": {},
   "outputs": [
    {
     "name": "stdout",
     "output_type": "stream",
     "text": [
      "<class 'pandas.core.frame.DataFrame'>\n",
      "RangeIndex: 18559923 entries, 0 to 18559922\n",
      "Data columns (total 7 columns):\n",
      " #   Column                   Dtype \n",
      "---  ------                   ----- \n",
      " 0   user_id                  object\n",
      " 1   user_registration_time   object\n",
      " 2   user_first_listing_date  object\n",
      " 3   item_id                  object\n",
      " 4   item_starttime           object\n",
      " 5   item_category            object\n",
      " 6   item_subcategory         object\n",
      "dtypes: object(7)\n",
      "memory usage: 991.2+ MB\n"
     ]
    }
   ],
   "source": [
    "users_items = pd.read_csv('/Users/artyom/Downloads/Task from Avito.BI team/new_items_by_support_users.csv')\n",
    "users_items.info()"
   ]
  },
  {
   "cell_type": "code",
   "execution_count": 7,
   "metadata": {},
   "outputs": [
    {
     "data": {
      "text/html": [
       "<div>\n",
       "<style scoped>\n",
       "    .dataframe tbody tr th:only-of-type {\n",
       "        vertical-align: middle;\n",
       "    }\n",
       "\n",
       "    .dataframe tbody tr th {\n",
       "        vertical-align: top;\n",
       "    }\n",
       "\n",
       "    .dataframe thead th {\n",
       "        text-align: right;\n",
       "    }\n",
       "</style>\n",
       "<table border=\"1\" class=\"dataframe\">\n",
       "  <thead>\n",
       "    <tr style=\"text-align: right;\">\n",
       "      <th></th>\n",
       "      <th>user_id</th>\n",
       "      <th>user_registration_time</th>\n",
       "      <th>user_first_listing_date</th>\n",
       "      <th>item_id</th>\n",
       "      <th>item_starttime</th>\n",
       "      <th>item_category</th>\n",
       "      <th>item_subcategory</th>\n",
       "    </tr>\n",
       "  </thead>\n",
       "  <tbody>\n",
       "    <tr>\n",
       "      <th>0</th>\n",
       "      <td>386 341 477</td>\n",
       "      <td>2013-05-27 14:40:09</td>\n",
       "      <td>2013-05-27 14:40:09</td>\n",
       "      <td>8 523 500 011</td>\n",
       "      <td>2014-01-01 02:22:54</td>\n",
       "      <td>Транспорт</td>\n",
       "      <td>Автомобили</td>\n",
       "    </tr>\n",
       "    <tr>\n",
       "      <th>1</th>\n",
       "      <td>6 790 750 024</td>\n",
       "      <td>2013-12-14 23:05:15</td>\n",
       "      <td>2013-12-14 23:27:04</td>\n",
       "      <td>8 525 000 013</td>\n",
       "      <td>2014-01-01 02:45:56</td>\n",
       "      <td>Транспорт</td>\n",
       "      <td>Запчасти и аксессуары</td>\n",
       "    </tr>\n",
       "    <tr>\n",
       "      <th>2</th>\n",
       "      <td>2 755 740</td>\n",
       "      <td>2011-04-14 17:54:40</td>\n",
       "      <td>2011-04-14 18:05:27</td>\n",
       "      <td>8 527 000 043</td>\n",
       "      <td>2014-01-01 03:29:44</td>\n",
       "      <td>Транспорт</td>\n",
       "      <td>Автомобили</td>\n",
       "    </tr>\n",
       "    <tr>\n",
       "      <th>3</th>\n",
       "      <td>506 779</td>\n",
       "      <td>2011-08-14 06:19:11</td>\n",
       "      <td>2011-08-14 06:50:04</td>\n",
       "      <td>8 530 000 039</td>\n",
       "      <td>2014-01-01 04:34:51</td>\n",
       "      <td>Личные вещи</td>\n",
       "      <td>Красота и здоровье</td>\n",
       "    </tr>\n",
       "    <tr>\n",
       "      <th>4</th>\n",
       "      <td>766 896</td>\n",
       "      <td>2013-05-17 11:32:13</td>\n",
       "      <td>2013-06-05 06:05:09</td>\n",
       "      <td>8 534 500 187</td>\n",
       "      <td>2014-01-01 06:07:58</td>\n",
       "      <td>Недвижимость</td>\n",
       "      <td>Дома, дачи, коттеджи</td>\n",
       "    </tr>\n",
       "  </tbody>\n",
       "</table>\n",
       "</div>"
      ],
      "text/plain": [
       "         user_id user_registration_time user_first_listing_date  \\\n",
       "0    386 341 477    2013-05-27 14:40:09     2013-05-27 14:40:09   \n",
       "1  6 790 750 024    2013-12-14 23:05:15     2013-12-14 23:27:04   \n",
       "2      2 755 740    2011-04-14 17:54:40     2011-04-14 18:05:27   \n",
       "3        506 779    2011-08-14 06:19:11     2011-08-14 06:50:04   \n",
       "4        766 896    2013-05-17 11:32:13     2013-06-05 06:05:09   \n",
       "\n",
       "         item_id       item_starttime item_category       item_subcategory  \n",
       "0  8 523 500 011  2014-01-01 02:22:54     Транспорт             Автомобили  \n",
       "1  8 525 000 013  2014-01-01 02:45:56     Транспорт  Запчасти и аксессуары  \n",
       "2  8 527 000 043  2014-01-01 03:29:44     Транспорт             Автомобили  \n",
       "3  8 530 000 039  2014-01-01 04:34:51   Личные вещи     Красота и здоровье  \n",
       "4  8 534 500 187  2014-01-01 06:07:58  Недвижимость   Дома, дачи, коттеджи  "
      ]
     },
     "execution_count": 7,
     "metadata": {},
     "output_type": "execute_result"
    }
   ],
   "source": [
    "users_items.head()"
   ]
  },
  {
   "cell_type": "code",
   "execution_count": 8,
   "metadata": {},
   "outputs": [],
   "source": [
    "sup_t_stf_bad = sup_t_stf[sup_t_stf['result_mentioned_by_user'] == 'Не удовлетворительно']"
   ]
  },
  {
   "cell_type": "code",
   "execution_count": 9,
   "metadata": {},
   "outputs": [],
   "source": [
    "users_item_bad_stf = pd.merge(left=users_items, right=sup_t_stf_bad, left_on='user_id', right_on='user_id', how='inner')"
   ]
  },
  {
   "cell_type": "code",
   "execution_count": 10,
   "metadata": {},
   "outputs": [
    {
     "data": {
      "text/html": [
       "<div>\n",
       "<style scoped>\n",
       "    .dataframe tbody tr th:only-of-type {\n",
       "        vertical-align: middle;\n",
       "    }\n",
       "\n",
       "    .dataframe tbody tr th {\n",
       "        vertical-align: top;\n",
       "    }\n",
       "\n",
       "    .dataframe thead th {\n",
       "        text-align: right;\n",
       "    }\n",
       "</style>\n",
       "<table border=\"1\" class=\"dataframe\">\n",
       "  <thead>\n",
       "    <tr style=\"text-align: right;\">\n",
       "      <th></th>\n",
       "      <th>user_id</th>\n",
       "      <th>user_registration_time</th>\n",
       "      <th>user_first_listing_date</th>\n",
       "      <th>item_id</th>\n",
       "      <th>item_starttime</th>\n",
       "      <th>item_category</th>\n",
       "      <th>item_subcategory</th>\n",
       "      <th>ticket_category</th>\n",
       "      <th>ticket_subcategory</th>\n",
       "      <th>current_state</th>\n",
       "      <th>request_id</th>\n",
       "      <th>activity_start_dt</th>\n",
       "      <th>fact_reaction_dt</th>\n",
       "      <th>result_mentioned_by_user</th>\n",
       "    </tr>\n",
       "  </thead>\n",
       "  <tbody>\n",
       "    <tr>\n",
       "      <th>0</th>\n",
       "      <td>5 279 000 095</td>\n",
       "      <td>2013-11-22 12:03:49</td>\n",
       "      <td>2013-11-22 12:06:36</td>\n",
       "      <td>8 547 750 079</td>\n",
       "      <td>2014-01-01 10:26:38</td>\n",
       "      <td>Транспорт</td>\n",
       "      <td>Автомобили</td>\n",
       "      <td>Блокировки и отклонения</td>\n",
       "      <td>Заблокированная учетная запись</td>\n",
       "      <td>Решено</td>\n",
       "      <td>465c1852-fd24-4ecc-9d91-28d4a151d4f1</td>\n",
       "      <td>2015-11-15 16:39:00</td>\n",
       "      <td>2015-11-16 17:55:00</td>\n",
       "      <td>Не удовлетворительно</td>\n",
       "    </tr>\n",
       "    <tr>\n",
       "      <th>1</th>\n",
       "      <td>5 279 000 095</td>\n",
       "      <td>2013-11-22 12:03:49</td>\n",
       "      <td>2013-11-22 12:06:36</td>\n",
       "      <td>10 750 000 262</td>\n",
       "      <td>2014-01-27 12:41:21</td>\n",
       "      <td>Транспорт</td>\n",
       "      <td>Запчасти и аксессуары</td>\n",
       "      <td>Блокировки и отклонения</td>\n",
       "      <td>Заблокированная учетная запись</td>\n",
       "      <td>Решено</td>\n",
       "      <td>465c1852-fd24-4ecc-9d91-28d4a151d4f1</td>\n",
       "      <td>2015-11-15 16:39:00</td>\n",
       "      <td>2015-11-16 17:55:00</td>\n",
       "      <td>Не удовлетворительно</td>\n",
       "    </tr>\n",
       "    <tr>\n",
       "      <th>2</th>\n",
       "      <td>5 279 000 095</td>\n",
       "      <td>2013-11-22 12:03:49</td>\n",
       "      <td>2013-11-22 12:06:36</td>\n",
       "      <td>10 661 751 827</td>\n",
       "      <td>2014-01-26 15:15:01</td>\n",
       "      <td>Транспорт</td>\n",
       "      <td>Мотоциклы и мототехника</td>\n",
       "      <td>Блокировки и отклонения</td>\n",
       "      <td>Заблокированная учетная запись</td>\n",
       "      <td>Решено</td>\n",
       "      <td>465c1852-fd24-4ecc-9d91-28d4a151d4f1</td>\n",
       "      <td>2015-11-15 16:39:00</td>\n",
       "      <td>2015-11-16 17:55:00</td>\n",
       "      <td>Не удовлетворительно</td>\n",
       "    </tr>\n",
       "    <tr>\n",
       "      <th>3</th>\n",
       "      <td>5 279 000 095</td>\n",
       "      <td>2013-11-22 12:03:49</td>\n",
       "      <td>2013-11-22 12:06:36</td>\n",
       "      <td>11 350 750 059</td>\n",
       "      <td>2014-02-02 17:45:50</td>\n",
       "      <td>Работа</td>\n",
       "      <td>Резюме</td>\n",
       "      <td>Блокировки и отклонения</td>\n",
       "      <td>Заблокированная учетная запись</td>\n",
       "      <td>Решено</td>\n",
       "      <td>465c1852-fd24-4ecc-9d91-28d4a151d4f1</td>\n",
       "      <td>2015-11-15 16:39:00</td>\n",
       "      <td>2015-11-16 17:55:00</td>\n",
       "      <td>Не удовлетворительно</td>\n",
       "    </tr>\n",
       "    <tr>\n",
       "      <th>4</th>\n",
       "      <td>5 279 000 095</td>\n",
       "      <td>2013-11-22 12:03:49</td>\n",
       "      <td>2013-11-22 12:06:36</td>\n",
       "      <td>11 792 500 634</td>\n",
       "      <td>2014-02-07 17:05:23</td>\n",
       "      <td>Бытовая электроника</td>\n",
       "      <td>Телефоны</td>\n",
       "      <td>Блокировки и отклонения</td>\n",
       "      <td>Заблокированная учетная запись</td>\n",
       "      <td>Решено</td>\n",
       "      <td>465c1852-fd24-4ecc-9d91-28d4a151d4f1</td>\n",
       "      <td>2015-11-15 16:39:00</td>\n",
       "      <td>2015-11-16 17:55:00</td>\n",
       "      <td>Не удовлетворительно</td>\n",
       "    </tr>\n",
       "  </tbody>\n",
       "</table>\n",
       "</div>"
      ],
      "text/plain": [
       "         user_id user_registration_time user_first_listing_date  \\\n",
       "0  5 279 000 095    2013-11-22 12:03:49     2013-11-22 12:06:36   \n",
       "1  5 279 000 095    2013-11-22 12:03:49     2013-11-22 12:06:36   \n",
       "2  5 279 000 095    2013-11-22 12:03:49     2013-11-22 12:06:36   \n",
       "3  5 279 000 095    2013-11-22 12:03:49     2013-11-22 12:06:36   \n",
       "4  5 279 000 095    2013-11-22 12:03:49     2013-11-22 12:06:36   \n",
       "\n",
       "          item_id       item_starttime        item_category  \\\n",
       "0   8 547 750 079  2014-01-01 10:26:38            Транспорт   \n",
       "1  10 750 000 262  2014-01-27 12:41:21            Транспорт   \n",
       "2  10 661 751 827  2014-01-26 15:15:01            Транспорт   \n",
       "3  11 350 750 059  2014-02-02 17:45:50               Работа   \n",
       "4  11 792 500 634  2014-02-07 17:05:23  Бытовая электроника   \n",
       "\n",
       "          item_subcategory          ticket_category  \\\n",
       "0               Автомобили  Блокировки и отклонения   \n",
       "1    Запчасти и аксессуары  Блокировки и отклонения   \n",
       "2  Мотоциклы и мототехника  Блокировки и отклонения   \n",
       "3                   Резюме  Блокировки и отклонения   \n",
       "4                 Телефоны  Блокировки и отклонения   \n",
       "\n",
       "               ticket_subcategory current_state  \\\n",
       "0  Заблокированная учетная запись        Решено   \n",
       "1  Заблокированная учетная запись        Решено   \n",
       "2  Заблокированная учетная запись        Решено   \n",
       "3  Заблокированная учетная запись        Решено   \n",
       "4  Заблокированная учетная запись        Решено   \n",
       "\n",
       "                             request_id    activity_start_dt  \\\n",
       "0  465c1852-fd24-4ecc-9d91-28d4a151d4f1  2015-11-15 16:39:00   \n",
       "1  465c1852-fd24-4ecc-9d91-28d4a151d4f1  2015-11-15 16:39:00   \n",
       "2  465c1852-fd24-4ecc-9d91-28d4a151d4f1  2015-11-15 16:39:00   \n",
       "3  465c1852-fd24-4ecc-9d91-28d4a151d4f1  2015-11-15 16:39:00   \n",
       "4  465c1852-fd24-4ecc-9d91-28d4a151d4f1  2015-11-15 16:39:00   \n",
       "\n",
       "      fact_reaction_dt result_mentioned_by_user  \n",
       "0  2015-11-16 17:55:00     Не удовлетворительно  \n",
       "1  2015-11-16 17:55:00     Не удовлетворительно  \n",
       "2  2015-11-16 17:55:00     Не удовлетворительно  \n",
       "3  2015-11-16 17:55:00     Не удовлетворительно  \n",
       "4  2015-11-16 17:55:00     Не удовлетворительно  "
      ]
     },
     "execution_count": 10,
     "metadata": {},
     "output_type": "execute_result"
    }
   ],
   "source": [
    "users_item_bad_stf.head()"
   ]
  },
  {
   "cell_type": "code",
   "execution_count": 11,
   "metadata": {},
   "outputs": [],
   "source": [
    "users_item_bad_stf = users_item_bad_stf[users_item_bad_stf['item_starttime'] > '2015-06-01 00:00:00']"
   ]
  },
  {
   "cell_type": "code",
   "execution_count": 12,
   "metadata": {},
   "outputs": [
    {
     "name": "stdout",
     "output_type": "stream",
     "text": [
      "<class 'pandas.core.frame.DataFrame'>\n",
      "Int64Index: 1502109 entries, 17 to 3156548\n",
      "Data columns (total 14 columns):\n",
      " #   Column                    Non-Null Count    Dtype \n",
      "---  ------                    --------------    ----- \n",
      " 0   user_id                   1502109 non-null  object\n",
      " 1   user_registration_time    1502109 non-null  object\n",
      " 2   user_first_listing_date   1502109 non-null  object\n",
      " 3   item_id                   1502109 non-null  object\n",
      " 4   item_starttime            1502109 non-null  object\n",
      " 5   item_category             1502109 non-null  object\n",
      " 6   item_subcategory          1502109 non-null  object\n",
      " 7   ticket_category           1502109 non-null  object\n",
      " 8   ticket_subcategory        1502109 non-null  object\n",
      " 9   current_state             1502109 non-null  object\n",
      " 10  request_id                1502109 non-null  object\n",
      " 11  activity_start_dt         1502109 non-null  object\n",
      " 12  fact_reaction_dt          1502109 non-null  object\n",
      " 13  result_mentioned_by_user  1502109 non-null  object\n",
      "dtypes: object(14)\n",
      "memory usage: 171.9+ MB\n"
     ]
    }
   ],
   "source": [
    "users_item_bad_stf.info()"
   ]
  },
  {
   "cell_type": "code",
   "execution_count": 13,
   "metadata": {},
   "outputs": [],
   "source": [
    "from datetime import datetime, timedelta\n",
    "import math\n",
    "\n",
    "def str_to_date(s):\n",
    "     return datetime.strptime(s, '%Y-%m-%d %H:%M:%S')\n",
    "\n",
    "def c_days(s):\n",
    "     return s.days\n",
    "\n",
    "def toFixed(numObj, digits=0):\n",
    "    return f\"{numObj:.{digits}f}\"\n",
    "\n",
    "def amount_NAN(x):\n",
    "    count = 0\n",
    "    for el in x:\n",
    "        if math.isnan(el): count += 1\n",
    "    return count\n",
    "    "
   ]
  },
  {
   "cell_type": "code",
   "execution_count": 14,
   "metadata": {},
   "outputs": [],
   "source": [
    "users_item_bad_stf_score_before_call = users_item_bad_stf[(users_item_bad_stf['item_starttime'] < users_item_bad_stf['fact_reaction_dt'])\n",
    "                                                          & (users_item_bad_stf['item_starttime'].apply(str_to_date) > \\\n",
    "                                                             users_item_bad_stf['fact_reaction_dt'].apply(str_to_date) - timedelta(days=90))]                                         "
   ]
  },
  {
   "cell_type": "code",
   "execution_count": 15,
   "metadata": {},
   "outputs": [
    {
     "data": {
      "text/html": [
       "<div>\n",
       "<style scoped>\n",
       "    .dataframe tbody tr th:only-of-type {\n",
       "        vertical-align: middle;\n",
       "    }\n",
       "\n",
       "    .dataframe tbody tr th {\n",
       "        vertical-align: top;\n",
       "    }\n",
       "\n",
       "    .dataframe thead th {\n",
       "        text-align: right;\n",
       "    }\n",
       "</style>\n",
       "<table border=\"1\" class=\"dataframe\">\n",
       "  <thead>\n",
       "    <tr style=\"text-align: right;\">\n",
       "      <th></th>\n",
       "      <th>user_id</th>\n",
       "      <th>user_registration_time</th>\n",
       "      <th>user_first_listing_date</th>\n",
       "      <th>item_id</th>\n",
       "      <th>item_starttime</th>\n",
       "      <th>item_category</th>\n",
       "      <th>item_subcategory</th>\n",
       "      <th>ticket_category</th>\n",
       "      <th>ticket_subcategory</th>\n",
       "      <th>current_state</th>\n",
       "      <th>request_id</th>\n",
       "      <th>activity_start_dt</th>\n",
       "      <th>fact_reaction_dt</th>\n",
       "      <th>result_mentioned_by_user</th>\n",
       "    </tr>\n",
       "  </thead>\n",
       "  <tbody>\n",
       "    <tr>\n",
       "      <th>19</th>\n",
       "      <td>5 279 000 095</td>\n",
       "      <td>2013-11-22 12:03:49</td>\n",
       "      <td>2013-11-22 12:06:36</td>\n",
       "      <td>230 518 250 544</td>\n",
       "      <td>2015-11-15 17:01:15</td>\n",
       "      <td>Транспорт</td>\n",
       "      <td>Автомобили</td>\n",
       "      <td>Блокировки и отклонения</td>\n",
       "      <td>Заблокированная учетная запись</td>\n",
       "      <td>Решено</td>\n",
       "      <td>465c1852-fd24-4ecc-9d91-28d4a151d4f1</td>\n",
       "      <td>2015-11-15 16:39:00</td>\n",
       "      <td>2015-11-16 17:55:00</td>\n",
       "      <td>Не удовлетворительно</td>\n",
       "    </tr>\n",
       "    <tr>\n",
       "      <th>26</th>\n",
       "      <td>5 279 000 095</td>\n",
       "      <td>2013-11-22 12:03:49</td>\n",
       "      <td>2013-11-22 12:06:36</td>\n",
       "      <td>230 528 250 463</td>\n",
       "      <td>2015-11-15 17:26:34</td>\n",
       "      <td>Транспорт</td>\n",
       "      <td>Автомобили</td>\n",
       "      <td>Блокировки и отклонения</td>\n",
       "      <td>Заблокированная учетная запись</td>\n",
       "      <td>Решено</td>\n",
       "      <td>465c1852-fd24-4ecc-9d91-28d4a151d4f1</td>\n",
       "      <td>2015-11-15 16:39:00</td>\n",
       "      <td>2015-11-16 17:55:00</td>\n",
       "      <td>Не удовлетворительно</td>\n",
       "    </tr>\n",
       "    <tr>\n",
       "      <th>28</th>\n",
       "      <td>5 279 000 095</td>\n",
       "      <td>2013-11-22 12:03:49</td>\n",
       "      <td>2013-11-22 12:06:36</td>\n",
       "      <td>213 684 500 230</td>\n",
       "      <td>2015-10-05 16:11:59</td>\n",
       "      <td>Недвижимость</td>\n",
       "      <td>Квартиры</td>\n",
       "      <td>Блокировки и отклонения</td>\n",
       "      <td>Заблокированная учетная запись</td>\n",
       "      <td>Решено</td>\n",
       "      <td>465c1852-fd24-4ecc-9d91-28d4a151d4f1</td>\n",
       "      <td>2015-11-15 16:39:00</td>\n",
       "      <td>2015-11-16 17:55:00</td>\n",
       "      <td>Не удовлетворительно</td>\n",
       "    </tr>\n",
       "    <tr>\n",
       "      <th>29</th>\n",
       "      <td>5 279 000 095</td>\n",
       "      <td>2013-11-22 12:03:49</td>\n",
       "      <td>2013-11-22 12:06:36</td>\n",
       "      <td>217 941 750 268</td>\n",
       "      <td>2015-10-16 14:19:10</td>\n",
       "      <td>Транспорт</td>\n",
       "      <td>Автомобили</td>\n",
       "      <td>Блокировки и отклонения</td>\n",
       "      <td>Заблокированная учетная запись</td>\n",
       "      <td>Решено</td>\n",
       "      <td>465c1852-fd24-4ecc-9d91-28d4a151d4f1</td>\n",
       "      <td>2015-11-15 16:39:00</td>\n",
       "      <td>2015-11-16 17:55:00</td>\n",
       "      <td>Не удовлетворительно</td>\n",
       "    </tr>\n",
       "    <tr>\n",
       "      <th>920</th>\n",
       "      <td>1 264 839</td>\n",
       "      <td>2013-02-18 09:43:49</td>\n",
       "      <td>2013-02-18 09:51:16</td>\n",
       "      <td>192 174 500 129</td>\n",
       "      <td>2015-08-16 20:59:56</td>\n",
       "      <td>Для дома и дачи</td>\n",
       "      <td>Ремонт и строительство</td>\n",
       "      <td>Блокировки и отклонения</td>\n",
       "      <td>Отклоненное объявление</td>\n",
       "      <td>Решено</td>\n",
       "      <td>1da9b332-2046-49aa-bb78-660ba5874028</td>\n",
       "      <td>2015-11-07 11:31:00</td>\n",
       "      <td>2015-11-10 16:20:00</td>\n",
       "      <td>Не удовлетворительно</td>\n",
       "    </tr>\n",
       "  </tbody>\n",
       "</table>\n",
       "</div>"
      ],
      "text/plain": [
       "           user_id user_registration_time user_first_listing_date  \\\n",
       "19   5 279 000 095    2013-11-22 12:03:49     2013-11-22 12:06:36   \n",
       "26   5 279 000 095    2013-11-22 12:03:49     2013-11-22 12:06:36   \n",
       "28   5 279 000 095    2013-11-22 12:03:49     2013-11-22 12:06:36   \n",
       "29   5 279 000 095    2013-11-22 12:03:49     2013-11-22 12:06:36   \n",
       "920      1 264 839    2013-02-18 09:43:49     2013-02-18 09:51:16   \n",
       "\n",
       "             item_id       item_starttime    item_category  \\\n",
       "19   230 518 250 544  2015-11-15 17:01:15        Транспорт   \n",
       "26   230 528 250 463  2015-11-15 17:26:34        Транспорт   \n",
       "28   213 684 500 230  2015-10-05 16:11:59     Недвижимость   \n",
       "29   217 941 750 268  2015-10-16 14:19:10        Транспорт   \n",
       "920  192 174 500 129  2015-08-16 20:59:56  Для дома и дачи   \n",
       "\n",
       "           item_subcategory          ticket_category  \\\n",
       "19               Автомобили  Блокировки и отклонения   \n",
       "26               Автомобили  Блокировки и отклонения   \n",
       "28                 Квартиры  Блокировки и отклонения   \n",
       "29               Автомобили  Блокировки и отклонения   \n",
       "920  Ремонт и строительство  Блокировки и отклонения   \n",
       "\n",
       "                 ticket_subcategory current_state  \\\n",
       "19   Заблокированная учетная запись        Решено   \n",
       "26   Заблокированная учетная запись        Решено   \n",
       "28   Заблокированная учетная запись        Решено   \n",
       "29   Заблокированная учетная запись        Решено   \n",
       "920          Отклоненное объявление        Решено   \n",
       "\n",
       "                               request_id    activity_start_dt  \\\n",
       "19   465c1852-fd24-4ecc-9d91-28d4a151d4f1  2015-11-15 16:39:00   \n",
       "26   465c1852-fd24-4ecc-9d91-28d4a151d4f1  2015-11-15 16:39:00   \n",
       "28   465c1852-fd24-4ecc-9d91-28d4a151d4f1  2015-11-15 16:39:00   \n",
       "29   465c1852-fd24-4ecc-9d91-28d4a151d4f1  2015-11-15 16:39:00   \n",
       "920  1da9b332-2046-49aa-bb78-660ba5874028  2015-11-07 11:31:00   \n",
       "\n",
       "        fact_reaction_dt result_mentioned_by_user  \n",
       "19   2015-11-16 17:55:00     Не удовлетворительно  \n",
       "26   2015-11-16 17:55:00     Не удовлетворительно  \n",
       "28   2015-11-16 17:55:00     Не удовлетворительно  \n",
       "29   2015-11-16 17:55:00     Не удовлетворительно  \n",
       "920  2015-11-10 16:20:00     Не удовлетворительно  "
      ]
     },
     "execution_count": 15,
     "metadata": {},
     "output_type": "execute_result"
    }
   ],
   "source": [
    "users_item_bad_stf_score_before_call.head()"
   ]
  },
  {
   "cell_type": "code",
   "execution_count": 16,
   "metadata": {},
   "outputs": [],
   "source": [
    "not_stf_amount_per_user_before = users_item_bad_stf_score_before_call.groupby('user_id')['user_id'].count()"
   ]
  },
  {
   "cell_type": "code",
   "execution_count": 18,
   "metadata": {},
   "outputs": [],
   "source": [
    "users_item_bad_stf_score_after_call = users_item_bad_stf[(users_item_bad_stf['item_starttime'] > users_item_bad_stf['fact_reaction_dt'])\n",
    "                                                          & (users_item_bad_stf['item_starttime'].apply(str_to_date) < \\\n",
    "                                                             users_item_bad_stf['fact_reaction_dt'].apply(str_to_date) + timedelta(days=90))]                                         "
   ]
  },
  {
   "cell_type": "code",
   "execution_count": 19,
   "metadata": {},
   "outputs": [
    {
     "data": {
      "text/html": [
       "<div>\n",
       "<style scoped>\n",
       "    .dataframe tbody tr th:only-of-type {\n",
       "        vertical-align: middle;\n",
       "    }\n",
       "\n",
       "    .dataframe tbody tr th {\n",
       "        vertical-align: top;\n",
       "    }\n",
       "\n",
       "    .dataframe thead th {\n",
       "        text-align: right;\n",
       "    }\n",
       "</style>\n",
       "<table border=\"1\" class=\"dataframe\">\n",
       "  <thead>\n",
       "    <tr style=\"text-align: right;\">\n",
       "      <th></th>\n",
       "      <th>user_id</th>\n",
       "      <th>user_registration_time</th>\n",
       "      <th>user_first_listing_date</th>\n",
       "      <th>item_id</th>\n",
       "      <th>item_starttime</th>\n",
       "      <th>item_category</th>\n",
       "      <th>item_subcategory</th>\n",
       "      <th>ticket_category</th>\n",
       "      <th>ticket_subcategory</th>\n",
       "      <th>current_state</th>\n",
       "      <th>request_id</th>\n",
       "      <th>activity_start_dt</th>\n",
       "      <th>fact_reaction_dt</th>\n",
       "      <th>result_mentioned_by_user</th>\n",
       "    </tr>\n",
       "  </thead>\n",
       "  <tbody>\n",
       "    <tr>\n",
       "      <th>20</th>\n",
       "      <td>5 279 000 095</td>\n",
       "      <td>2013-11-22 12:03:49</td>\n",
       "      <td>2013-11-22 12:06:36</td>\n",
       "      <td>232 044 500 850</td>\n",
       "      <td>2015-11-20 11:41:03</td>\n",
       "      <td>Работа</td>\n",
       "      <td>Резюме</td>\n",
       "      <td>Блокировки и отклонения</td>\n",
       "      <td>Заблокированная учетная запись</td>\n",
       "      <td>Решено</td>\n",
       "      <td>465c1852-fd24-4ecc-9d91-28d4a151d4f1</td>\n",
       "      <td>2015-11-15 16:39:00</td>\n",
       "      <td>2015-11-16 17:55:00</td>\n",
       "      <td>Не удовлетворительно</td>\n",
       "    </tr>\n",
       "    <tr>\n",
       "      <th>22</th>\n",
       "      <td>5 279 000 095</td>\n",
       "      <td>2013-11-22 12:03:49</td>\n",
       "      <td>2013-11-22 12:06:36</td>\n",
       "      <td>250 646 000 093</td>\n",
       "      <td>2016-01-15 19:04:22</td>\n",
       "      <td>Для дома и дачи</td>\n",
       "      <td>Ремонт и строительство</td>\n",
       "      <td>Блокировки и отклонения</td>\n",
       "      <td>Заблокированная учетная запись</td>\n",
       "      <td>Решено</td>\n",
       "      <td>465c1852-fd24-4ecc-9d91-28d4a151d4f1</td>\n",
       "      <td>2015-11-15 16:39:00</td>\n",
       "      <td>2015-11-16 17:55:00</td>\n",
       "      <td>Не удовлетворительно</td>\n",
       "    </tr>\n",
       "    <tr>\n",
       "      <th>23</th>\n",
       "      <td>5 279 000 095</td>\n",
       "      <td>2013-11-22 12:03:49</td>\n",
       "      <td>2013-11-22 12:06:36</td>\n",
       "      <td>257 573 000 305</td>\n",
       "      <td>2016-01-31 09:51:16</td>\n",
       "      <td>Личные вещи</td>\n",
       "      <td>Часы и украшения</td>\n",
       "      <td>Блокировки и отклонения</td>\n",
       "      <td>Заблокированная учетная запись</td>\n",
       "      <td>Решено</td>\n",
       "      <td>465c1852-fd24-4ecc-9d91-28d4a151d4f1</td>\n",
       "      <td>2015-11-15 16:39:00</td>\n",
       "      <td>2015-11-16 17:55:00</td>\n",
       "      <td>Не удовлетворительно</td>\n",
       "    </tr>\n",
       "    <tr>\n",
       "      <th>1024</th>\n",
       "      <td>1 264 839</td>\n",
       "      <td>2013-02-18 09:43:49</td>\n",
       "      <td>2013-02-18 09:51:16</td>\n",
       "      <td>234 176 500 134</td>\n",
       "      <td>2015-11-26 13:18:30</td>\n",
       "      <td>Транспорт</td>\n",
       "      <td>Запчасти и аксессуары</td>\n",
       "      <td>Блокировки и отклонения</td>\n",
       "      <td>Отклоненное объявление</td>\n",
       "      <td>Решено</td>\n",
       "      <td>1da9b332-2046-49aa-bb78-660ba5874028</td>\n",
       "      <td>2015-11-07 11:31:00</td>\n",
       "      <td>2015-11-10 16:20:00</td>\n",
       "      <td>Не удовлетворительно</td>\n",
       "    </tr>\n",
       "    <tr>\n",
       "      <th>1025</th>\n",
       "      <td>1 264 839</td>\n",
       "      <td>2013-02-18 09:43:49</td>\n",
       "      <td>2013-02-18 09:51:16</td>\n",
       "      <td>234 176 500 134</td>\n",
       "      <td>2015-11-26 13:18:30</td>\n",
       "      <td>Транспорт</td>\n",
       "      <td>Запчасти и аксессуары</td>\n",
       "      <td>Блокировки и отклонения</td>\n",
       "      <td>Отклоненное объявление</td>\n",
       "      <td>Решено</td>\n",
       "      <td>334745ee-a8e1-4566-bdda-4e03540cfb83</td>\n",
       "      <td>2015-11-09 15:18:00</td>\n",
       "      <td>2015-11-14 14:54:00</td>\n",
       "      <td>Не удовлетворительно</td>\n",
       "    </tr>\n",
       "  </tbody>\n",
       "</table>\n",
       "</div>"
      ],
      "text/plain": [
       "            user_id user_registration_time user_first_listing_date  \\\n",
       "20    5 279 000 095    2013-11-22 12:03:49     2013-11-22 12:06:36   \n",
       "22    5 279 000 095    2013-11-22 12:03:49     2013-11-22 12:06:36   \n",
       "23    5 279 000 095    2013-11-22 12:03:49     2013-11-22 12:06:36   \n",
       "1024      1 264 839    2013-02-18 09:43:49     2013-02-18 09:51:16   \n",
       "1025      1 264 839    2013-02-18 09:43:49     2013-02-18 09:51:16   \n",
       "\n",
       "              item_id       item_starttime    item_category  \\\n",
       "20    232 044 500 850  2015-11-20 11:41:03           Работа   \n",
       "22    250 646 000 093  2016-01-15 19:04:22  Для дома и дачи   \n",
       "23    257 573 000 305  2016-01-31 09:51:16      Личные вещи   \n",
       "1024  234 176 500 134  2015-11-26 13:18:30        Транспорт   \n",
       "1025  234 176 500 134  2015-11-26 13:18:30        Транспорт   \n",
       "\n",
       "            item_subcategory          ticket_category  \\\n",
       "20                    Резюме  Блокировки и отклонения   \n",
       "22    Ремонт и строительство  Блокировки и отклонения   \n",
       "23          Часы и украшения  Блокировки и отклонения   \n",
       "1024   Запчасти и аксессуары  Блокировки и отклонения   \n",
       "1025   Запчасти и аксессуары  Блокировки и отклонения   \n",
       "\n",
       "                  ticket_subcategory current_state  \\\n",
       "20    Заблокированная учетная запись        Решено   \n",
       "22    Заблокированная учетная запись        Решено   \n",
       "23    Заблокированная учетная запись        Решено   \n",
       "1024          Отклоненное объявление        Решено   \n",
       "1025          Отклоненное объявление        Решено   \n",
       "\n",
       "                                request_id    activity_start_dt  \\\n",
       "20    465c1852-fd24-4ecc-9d91-28d4a151d4f1  2015-11-15 16:39:00   \n",
       "22    465c1852-fd24-4ecc-9d91-28d4a151d4f1  2015-11-15 16:39:00   \n",
       "23    465c1852-fd24-4ecc-9d91-28d4a151d4f1  2015-11-15 16:39:00   \n",
       "1024  1da9b332-2046-49aa-bb78-660ba5874028  2015-11-07 11:31:00   \n",
       "1025  334745ee-a8e1-4566-bdda-4e03540cfb83  2015-11-09 15:18:00   \n",
       "\n",
       "         fact_reaction_dt result_mentioned_by_user  \n",
       "20    2015-11-16 17:55:00     Не удовлетворительно  \n",
       "22    2015-11-16 17:55:00     Не удовлетворительно  \n",
       "23    2015-11-16 17:55:00     Не удовлетворительно  \n",
       "1024  2015-11-10 16:20:00     Не удовлетворительно  \n",
       "1025  2015-11-14 14:54:00     Не удовлетворительно  "
      ]
     },
     "execution_count": 19,
     "metadata": {},
     "output_type": "execute_result"
    }
   ],
   "source": [
    "users_item_bad_stf_score_after_call.head()"
   ]
  },
  {
   "cell_type": "code",
   "execution_count": 20,
   "metadata": {},
   "outputs": [],
   "source": [
    "not_stf_amount_per_user_after = users_item_bad_stf_score_after_call.groupby('user_id')['user_id'].count()"
   ]
  },
  {
   "cell_type": "code",
   "execution_count": 22,
   "metadata": {},
   "outputs": [],
   "source": [
    "bad_stf_users_gone = amount_NAN(not_stf_amount_per_user_after / not_stf_amount_per_user_before) / len(not_stf_amount_per_user_before)"
   ]
  },
  {
   "cell_type": "code",
   "execution_count": 23,
   "metadata": {},
   "outputs": [
    {
     "data": {
      "text/plain": [
       "0.38242398408638817"
      ]
     },
     "execution_count": 23,
     "metadata": {},
     "output_type": "execute_result"
    }
   ],
   "source": [
    "bad_stf_users_gone"
   ]
  },
  {
   "cell_type": "code",
   "execution_count": 24,
   "metadata": {},
   "outputs": [],
   "source": [
    "conversion_bad_stf = (not_stf_amount_per_user_after / not_stf_amount_per_user_before).dropna()"
   ]
  },
  {
   "cell_type": "code",
   "execution_count": 26,
   "metadata": {},
   "outputs": [
    {
     "data": {
      "text/plain": [
       "0.7407407407407407"
      ]
     },
     "execution_count": 26,
     "metadata": {},
     "output_type": "execute_result"
    }
   ],
   "source": [
    "conversion_bad_stf.median()"
   ]
  },
  {
   "cell_type": "code",
   "execution_count": 27,
   "metadata": {},
   "outputs": [],
   "source": [
    "sup_t_stf_not_bad = sup_t_stf[sup_t_stf['result_mentioned_by_user'] != 'Не удовлетворительно']"
   ]
  },
  {
   "cell_type": "code",
   "execution_count": 28,
   "metadata": {},
   "outputs": [],
   "source": [
    "users_item_not_bad_stf = pd.merge(left=users_items, right=sup_t_stf_not_bad, left_on='user_id', right_on='user_id', how='inner')"
   ]
  },
  {
   "cell_type": "code",
   "execution_count": 29,
   "metadata": {},
   "outputs": [
    {
     "data": {
      "text/html": [
       "<div>\n",
       "<style scoped>\n",
       "    .dataframe tbody tr th:only-of-type {\n",
       "        vertical-align: middle;\n",
       "    }\n",
       "\n",
       "    .dataframe tbody tr th {\n",
       "        vertical-align: top;\n",
       "    }\n",
       "\n",
       "    .dataframe thead th {\n",
       "        text-align: right;\n",
       "    }\n",
       "</style>\n",
       "<table border=\"1\" class=\"dataframe\">\n",
       "  <thead>\n",
       "    <tr style=\"text-align: right;\">\n",
       "      <th></th>\n",
       "      <th>user_id</th>\n",
       "      <th>user_registration_time</th>\n",
       "      <th>user_first_listing_date</th>\n",
       "      <th>item_id</th>\n",
       "      <th>item_starttime</th>\n",
       "      <th>item_category</th>\n",
       "      <th>item_subcategory</th>\n",
       "      <th>ticket_category</th>\n",
       "      <th>ticket_subcategory</th>\n",
       "      <th>current_state</th>\n",
       "      <th>request_id</th>\n",
       "      <th>activity_start_dt</th>\n",
       "      <th>fact_reaction_dt</th>\n",
       "      <th>result_mentioned_by_user</th>\n",
       "    </tr>\n",
       "  </thead>\n",
       "  <tbody>\n",
       "    <tr>\n",
       "      <th>0</th>\n",
       "      <td>386 341 477</td>\n",
       "      <td>2013-05-27 14:40:09</td>\n",
       "      <td>2013-05-27 14:40:09</td>\n",
       "      <td>8 523 500 011</td>\n",
       "      <td>2014-01-01 02:22:54</td>\n",
       "      <td>Транспорт</td>\n",
       "      <td>Автомобили</td>\n",
       "      <td>Платные услуги и сервисы</td>\n",
       "      <td>Пополнение кошелька</td>\n",
       "      <td>Решено</td>\n",
       "      <td>0fc421a6-b171-4aa3-acf9-397886583a2b</td>\n",
       "      <td>2015-11-02 15:48:00</td>\n",
       "      <td>2015-11-07 11:41:00</td>\n",
       "      <td>Нейтрально</td>\n",
       "    </tr>\n",
       "    <tr>\n",
       "      <th>1</th>\n",
       "      <td>386 341 477</td>\n",
       "      <td>2013-05-27 14:40:09</td>\n",
       "      <td>2013-05-27 14:40:09</td>\n",
       "      <td>8 745 001 122</td>\n",
       "      <td>2014-01-03 21:57:17</td>\n",
       "      <td>Бытовая электроника</td>\n",
       "      <td>Аудио и видео</td>\n",
       "      <td>Платные услуги и сервисы</td>\n",
       "      <td>Пополнение кошелька</td>\n",
       "      <td>Решено</td>\n",
       "      <td>0fc421a6-b171-4aa3-acf9-397886583a2b</td>\n",
       "      <td>2015-11-02 15:48:00</td>\n",
       "      <td>2015-11-07 11:41:00</td>\n",
       "      <td>Нейтрально</td>\n",
       "    </tr>\n",
       "    <tr>\n",
       "      <th>2</th>\n",
       "      <td>386 341 477</td>\n",
       "      <td>2013-05-27 14:40:09</td>\n",
       "      <td>2013-05-27 14:40:09</td>\n",
       "      <td>9 117 002 008</td>\n",
       "      <td>2014-01-08 13:14:42</td>\n",
       "      <td>Транспорт</td>\n",
       "      <td>Автомобили</td>\n",
       "      <td>Платные услуги и сервисы</td>\n",
       "      <td>Пополнение кошелька</td>\n",
       "      <td>Решено</td>\n",
       "      <td>0fc421a6-b171-4aa3-acf9-397886583a2b</td>\n",
       "      <td>2015-11-02 15:48:00</td>\n",
       "      <td>2015-11-07 11:41:00</td>\n",
       "      <td>Нейтрально</td>\n",
       "    </tr>\n",
       "    <tr>\n",
       "      <th>3</th>\n",
       "      <td>386 341 477</td>\n",
       "      <td>2013-05-27 14:40:09</td>\n",
       "      <td>2013-05-27 14:40:09</td>\n",
       "      <td>9 229 500 613</td>\n",
       "      <td>2014-01-09 20:45:54</td>\n",
       "      <td>Транспорт</td>\n",
       "      <td>Автомобили</td>\n",
       "      <td>Платные услуги и сервисы</td>\n",
       "      <td>Пополнение кошелька</td>\n",
       "      <td>Решено</td>\n",
       "      <td>0fc421a6-b171-4aa3-acf9-397886583a2b</td>\n",
       "      <td>2015-11-02 15:48:00</td>\n",
       "      <td>2015-11-07 11:41:00</td>\n",
       "      <td>Нейтрально</td>\n",
       "    </tr>\n",
       "    <tr>\n",
       "      <th>4</th>\n",
       "      <td>386 341 477</td>\n",
       "      <td>2013-05-27 14:40:09</td>\n",
       "      <td>2013-05-27 14:40:09</td>\n",
       "      <td>9 801 750 955</td>\n",
       "      <td>2014-01-16 22:10:12</td>\n",
       "      <td>Транспорт</td>\n",
       "      <td>Запчасти и аксессуары</td>\n",
       "      <td>Платные услуги и сервисы</td>\n",
       "      <td>Пополнение кошелька</td>\n",
       "      <td>Решено</td>\n",
       "      <td>0fc421a6-b171-4aa3-acf9-397886583a2b</td>\n",
       "      <td>2015-11-02 15:48:00</td>\n",
       "      <td>2015-11-07 11:41:00</td>\n",
       "      <td>Нейтрально</td>\n",
       "    </tr>\n",
       "  </tbody>\n",
       "</table>\n",
       "</div>"
      ],
      "text/plain": [
       "       user_id user_registration_time user_first_listing_date        item_id  \\\n",
       "0  386 341 477    2013-05-27 14:40:09     2013-05-27 14:40:09  8 523 500 011   \n",
       "1  386 341 477    2013-05-27 14:40:09     2013-05-27 14:40:09  8 745 001 122   \n",
       "2  386 341 477    2013-05-27 14:40:09     2013-05-27 14:40:09  9 117 002 008   \n",
       "3  386 341 477    2013-05-27 14:40:09     2013-05-27 14:40:09  9 229 500 613   \n",
       "4  386 341 477    2013-05-27 14:40:09     2013-05-27 14:40:09  9 801 750 955   \n",
       "\n",
       "        item_starttime        item_category       item_subcategory  \\\n",
       "0  2014-01-01 02:22:54            Транспорт             Автомобили   \n",
       "1  2014-01-03 21:57:17  Бытовая электроника          Аудио и видео   \n",
       "2  2014-01-08 13:14:42            Транспорт             Автомобили   \n",
       "3  2014-01-09 20:45:54            Транспорт             Автомобили   \n",
       "4  2014-01-16 22:10:12            Транспорт  Запчасти и аксессуары   \n",
       "\n",
       "            ticket_category   ticket_subcategory current_state  \\\n",
       "0  Платные услуги и сервисы  Пополнение кошелька        Решено   \n",
       "1  Платные услуги и сервисы  Пополнение кошелька        Решено   \n",
       "2  Платные услуги и сервисы  Пополнение кошелька        Решено   \n",
       "3  Платные услуги и сервисы  Пополнение кошелька        Решено   \n",
       "4  Платные услуги и сервисы  Пополнение кошелька        Решено   \n",
       "\n",
       "                             request_id    activity_start_dt  \\\n",
       "0  0fc421a6-b171-4aa3-acf9-397886583a2b  2015-11-02 15:48:00   \n",
       "1  0fc421a6-b171-4aa3-acf9-397886583a2b  2015-11-02 15:48:00   \n",
       "2  0fc421a6-b171-4aa3-acf9-397886583a2b  2015-11-02 15:48:00   \n",
       "3  0fc421a6-b171-4aa3-acf9-397886583a2b  2015-11-02 15:48:00   \n",
       "4  0fc421a6-b171-4aa3-acf9-397886583a2b  2015-11-02 15:48:00   \n",
       "\n",
       "      fact_reaction_dt result_mentioned_by_user  \n",
       "0  2015-11-07 11:41:00               Нейтрально  \n",
       "1  2015-11-07 11:41:00               Нейтрально  \n",
       "2  2015-11-07 11:41:00               Нейтрально  \n",
       "3  2015-11-07 11:41:00               Нейтрально  \n",
       "4  2015-11-07 11:41:00               Нейтрально  "
      ]
     },
     "execution_count": 29,
     "metadata": {},
     "output_type": "execute_result"
    }
   ],
   "source": [
    "users_item_not_bad_stf.head()"
   ]
  },
  {
   "cell_type": "code",
   "execution_count": 30,
   "metadata": {},
   "outputs": [],
   "source": [
    "users_item_not_bad_stf = users_item_not_bad_stf[users_item_not_bad_stf['item_starttime'] > '2015-06-01 00:00:00']"
   ]
  },
  {
   "cell_type": "code",
   "execution_count": 32,
   "metadata": {},
   "outputs": [],
   "source": [
    "users_item_not_bad_stf_score_before_call = users_item_not_bad_stf[(users_item_not_bad_stf['item_starttime'] < users_item_not_bad_stf['fact_reaction_dt'])\n",
    "                                                          & (users_item_not_bad_stf['item_starttime'].apply(str_to_date) > \\\n",
    "                                                             users_item_not_bad_stf['fact_reaction_dt'].apply(str_to_date) - timedelta(days=90))]                                         "
   ]
  },
  {
   "cell_type": "code",
   "execution_count": 35,
   "metadata": {},
   "outputs": [],
   "source": [
    "stf_amount_per_user_before = users_item_not_bad_stf_score_before_call.groupby('user_id')['user_id'].count()"
   ]
  },
  {
   "cell_type": "code",
   "execution_count": 37,
   "metadata": {},
   "outputs": [],
   "source": [
    "users_item_not_bad_stf_score_after_call = users_item_not_bad_stf[(users_item_not_bad_stf['item_starttime'] > users_item_not_bad_stf['fact_reaction_dt'])\n",
    "                                                          & (users_item_not_bad_stf['item_starttime'].apply(str_to_date) < \\\n",
    "                                                             users_item_not_bad_stf['fact_reaction_dt'].apply(str_to_date) + timedelta(days=90))]                                         "
   ]
  },
  {
   "cell_type": "code",
   "execution_count": 38,
   "metadata": {},
   "outputs": [],
   "source": [
    "stf_amount_per_user_after = users_item_not_bad_stf_score_after_call.groupby('user_id')['user_id'].count()"
   ]
  },
  {
   "cell_type": "code",
   "execution_count": 40,
   "metadata": {},
   "outputs": [],
   "source": [
    "not_bad_stf_users_gone = amount_NAN(stf_amount_per_user_after / stf_amount_per_user_before) / len(stf_amount_per_user_before)"
   ]
  },
  {
   "cell_type": "code",
   "execution_count": 41,
   "metadata": {},
   "outputs": [
    {
     "data": {
      "text/plain": [
       "0.4179091818906587"
      ]
     },
     "execution_count": 41,
     "metadata": {},
     "output_type": "execute_result"
    }
   ],
   "source": [
    "not_bad_stf_users_gone"
   ]
  },
  {
   "cell_type": "code",
   "execution_count": 42,
   "metadata": {},
   "outputs": [],
   "source": [
    "conversion_not_bad_stf = (stf_amount_per_user_after / stf_amount_per_user_before).dropna()"
   ]
  },
  {
   "cell_type": "code",
   "execution_count": 43,
   "metadata": {},
   "outputs": [
    {
     "data": {
      "text/plain": [
       "0.88"
      ]
     },
     "execution_count": 43,
     "metadata": {},
     "output_type": "execute_result"
    }
   ],
   "source": [
    "conversion_not_bad_stf.median()"
   ]
  },
  {
   "cell_type": "code",
   "execution_count": 44,
   "metadata": {},
   "outputs": [],
   "source": [
    "sup_t_stf_perf = sup_t_stf[sup_t_stf['result_mentioned_by_user'] == 'Отлично']"
   ]
  },
  {
   "cell_type": "code",
   "execution_count": 45,
   "metadata": {},
   "outputs": [],
   "source": [
    "users_item_perf_stf = pd.merge(left=users_items, right=sup_t_stf_perf, left_on='user_id', right_on='user_id', how='inner')"
   ]
  },
  {
   "cell_type": "code",
   "execution_count": 46,
   "metadata": {},
   "outputs": [],
   "source": [
    "users_item_perf_stf = users_item_perf_stf[users_item_perf_stf['item_starttime'] > '2015-06-01 00:00:00']"
   ]
  },
  {
   "cell_type": "code",
   "execution_count": 47,
   "metadata": {},
   "outputs": [],
   "source": [
    "users_item_perf_stf_score_before_call = users_item_perf_stf[(users_item_perf_stf['item_starttime'] < users_item_perf_stf['fact_reaction_dt'])\n",
    "                                                          & (users_item_perf_stf['item_starttime'].apply(str_to_date) > \\\n",
    "                                                             users_item_perf_stf['fact_reaction_dt'].apply(str_to_date) - timedelta(days=90))]                                         "
   ]
  },
  {
   "cell_type": "code",
   "execution_count": 48,
   "metadata": {},
   "outputs": [
    {
     "data": {
      "text/html": [
       "<div>\n",
       "<style scoped>\n",
       "    .dataframe tbody tr th:only-of-type {\n",
       "        vertical-align: middle;\n",
       "    }\n",
       "\n",
       "    .dataframe tbody tr th {\n",
       "        vertical-align: top;\n",
       "    }\n",
       "\n",
       "    .dataframe thead th {\n",
       "        text-align: right;\n",
       "    }\n",
       "</style>\n",
       "<table border=\"1\" class=\"dataframe\">\n",
       "  <thead>\n",
       "    <tr style=\"text-align: right;\">\n",
       "      <th></th>\n",
       "      <th>user_id</th>\n",
       "      <th>user_registration_time</th>\n",
       "      <th>user_first_listing_date</th>\n",
       "      <th>item_id</th>\n",
       "      <th>item_starttime</th>\n",
       "      <th>item_category</th>\n",
       "      <th>item_subcategory</th>\n",
       "      <th>ticket_category</th>\n",
       "      <th>ticket_subcategory</th>\n",
       "      <th>current_state</th>\n",
       "      <th>request_id</th>\n",
       "      <th>activity_start_dt</th>\n",
       "      <th>fact_reaction_dt</th>\n",
       "      <th>result_mentioned_by_user</th>\n",
       "    </tr>\n",
       "  </thead>\n",
       "  <tbody>\n",
       "    <tr>\n",
       "      <th>139</th>\n",
       "      <td>2 755 740</td>\n",
       "      <td>2011-04-14 17:54:40</td>\n",
       "      <td>2011-04-14 18:05:27</td>\n",
       "      <td>207 842 000 674</td>\n",
       "      <td>2015-09-22 14:41:22</td>\n",
       "      <td>Транспорт</td>\n",
       "      <td>Запчасти и аксессуары</td>\n",
       "      <td>Блокировки и отклонения</td>\n",
       "      <td>Заблокированная учетная запись</td>\n",
       "      <td>Решено</td>\n",
       "      <td>8a587830-8150-47e5-a0fa-29b159b2a145</td>\n",
       "      <td>2015-11-05 09:15:00</td>\n",
       "      <td>2015-11-09 11:38:00</td>\n",
       "      <td>Отлично</td>\n",
       "    </tr>\n",
       "    <tr>\n",
       "      <th>140</th>\n",
       "      <td>2 755 740</td>\n",
       "      <td>2011-04-14 17:54:40</td>\n",
       "      <td>2011-04-14 18:05:27</td>\n",
       "      <td>210 217 000 070</td>\n",
       "      <td>2015-09-28 06:05:43</td>\n",
       "      <td>Транспорт</td>\n",
       "      <td>Автомобили</td>\n",
       "      <td>Блокировки и отклонения</td>\n",
       "      <td>Заблокированная учетная запись</td>\n",
       "      <td>Решено</td>\n",
       "      <td>8a587830-8150-47e5-a0fa-29b159b2a145</td>\n",
       "      <td>2015-11-05 09:15:00</td>\n",
       "      <td>2015-11-09 11:38:00</td>\n",
       "      <td>Отлично</td>\n",
       "    </tr>\n",
       "    <tr>\n",
       "      <th>141</th>\n",
       "      <td>2 755 740</td>\n",
       "      <td>2011-04-14 17:54:40</td>\n",
       "      <td>2011-04-14 18:05:27</td>\n",
       "      <td>211 016 500 069</td>\n",
       "      <td>2015-09-30 07:26:31</td>\n",
       "      <td>Транспорт</td>\n",
       "      <td>Запчасти и аксессуары</td>\n",
       "      <td>Блокировки и отклонения</td>\n",
       "      <td>Заблокированная учетная запись</td>\n",
       "      <td>Решено</td>\n",
       "      <td>8a587830-8150-47e5-a0fa-29b159b2a145</td>\n",
       "      <td>2015-11-05 09:15:00</td>\n",
       "      <td>2015-11-09 11:38:00</td>\n",
       "      <td>Отлично</td>\n",
       "    </tr>\n",
       "    <tr>\n",
       "      <th>143</th>\n",
       "      <td>2 755 740</td>\n",
       "      <td>2011-04-14 17:54:40</td>\n",
       "      <td>2011-04-14 18:05:27</td>\n",
       "      <td>207 102 000 023</td>\n",
       "      <td>2015-09-20 20:38:05</td>\n",
       "      <td>Транспорт</td>\n",
       "      <td>Автомобили</td>\n",
       "      <td>Блокировки и отклонения</td>\n",
       "      <td>Заблокированная учетная запись</td>\n",
       "      <td>Решено</td>\n",
       "      <td>8a587830-8150-47e5-a0fa-29b159b2a145</td>\n",
       "      <td>2015-11-05 09:15:00</td>\n",
       "      <td>2015-11-09 11:38:00</td>\n",
       "      <td>Отлично</td>\n",
       "    </tr>\n",
       "    <tr>\n",
       "      <th>144</th>\n",
       "      <td>2 755 740</td>\n",
       "      <td>2011-04-14 17:54:40</td>\n",
       "      <td>2011-04-14 18:05:27</td>\n",
       "      <td>207 871 000 159</td>\n",
       "      <td>2015-09-22 18:18:36</td>\n",
       "      <td>Транспорт</td>\n",
       "      <td>Автомобили</td>\n",
       "      <td>Блокировки и отклонения</td>\n",
       "      <td>Заблокированная учетная запись</td>\n",
       "      <td>Решено</td>\n",
       "      <td>8a587830-8150-47e5-a0fa-29b159b2a145</td>\n",
       "      <td>2015-11-05 09:15:00</td>\n",
       "      <td>2015-11-09 11:38:00</td>\n",
       "      <td>Отлично</td>\n",
       "    </tr>\n",
       "  </tbody>\n",
       "</table>\n",
       "</div>"
      ],
      "text/plain": [
       "       user_id user_registration_time user_first_listing_date  \\\n",
       "139  2 755 740    2011-04-14 17:54:40     2011-04-14 18:05:27   \n",
       "140  2 755 740    2011-04-14 17:54:40     2011-04-14 18:05:27   \n",
       "141  2 755 740    2011-04-14 17:54:40     2011-04-14 18:05:27   \n",
       "143  2 755 740    2011-04-14 17:54:40     2011-04-14 18:05:27   \n",
       "144  2 755 740    2011-04-14 17:54:40     2011-04-14 18:05:27   \n",
       "\n",
       "             item_id       item_starttime item_category  \\\n",
       "139  207 842 000 674  2015-09-22 14:41:22     Транспорт   \n",
       "140  210 217 000 070  2015-09-28 06:05:43     Транспорт   \n",
       "141  211 016 500 069  2015-09-30 07:26:31     Транспорт   \n",
       "143  207 102 000 023  2015-09-20 20:38:05     Транспорт   \n",
       "144  207 871 000 159  2015-09-22 18:18:36     Транспорт   \n",
       "\n",
       "          item_subcategory          ticket_category  \\\n",
       "139  Запчасти и аксессуары  Блокировки и отклонения   \n",
       "140             Автомобили  Блокировки и отклонения   \n",
       "141  Запчасти и аксессуары  Блокировки и отклонения   \n",
       "143             Автомобили  Блокировки и отклонения   \n",
       "144             Автомобили  Блокировки и отклонения   \n",
       "\n",
       "                 ticket_subcategory current_state  \\\n",
       "139  Заблокированная учетная запись        Решено   \n",
       "140  Заблокированная учетная запись        Решено   \n",
       "141  Заблокированная учетная запись        Решено   \n",
       "143  Заблокированная учетная запись        Решено   \n",
       "144  Заблокированная учетная запись        Решено   \n",
       "\n",
       "                               request_id    activity_start_dt  \\\n",
       "139  8a587830-8150-47e5-a0fa-29b159b2a145  2015-11-05 09:15:00   \n",
       "140  8a587830-8150-47e5-a0fa-29b159b2a145  2015-11-05 09:15:00   \n",
       "141  8a587830-8150-47e5-a0fa-29b159b2a145  2015-11-05 09:15:00   \n",
       "143  8a587830-8150-47e5-a0fa-29b159b2a145  2015-11-05 09:15:00   \n",
       "144  8a587830-8150-47e5-a0fa-29b159b2a145  2015-11-05 09:15:00   \n",
       "\n",
       "        fact_reaction_dt result_mentioned_by_user  \n",
       "139  2015-11-09 11:38:00                  Отлично  \n",
       "140  2015-11-09 11:38:00                  Отлично  \n",
       "141  2015-11-09 11:38:00                  Отлично  \n",
       "143  2015-11-09 11:38:00                  Отлично  \n",
       "144  2015-11-09 11:38:00                  Отлично  "
      ]
     },
     "execution_count": 48,
     "metadata": {},
     "output_type": "execute_result"
    }
   ],
   "source": [
    "users_item_perf_stf_score_before_call.head()"
   ]
  },
  {
   "cell_type": "code",
   "execution_count": 50,
   "metadata": {},
   "outputs": [],
   "source": [
    "perf_stf_amount_per_user_before = users_item_perf_stf_score_before_call.groupby('user_id')['user_id'].count()"
   ]
  },
  {
   "cell_type": "code",
   "execution_count": 52,
   "metadata": {},
   "outputs": [],
   "source": [
    "users_item_perf_stf_score_after_call = users_item_perf_stf[(users_item_perf_stf['item_starttime'] > users_item_perf_stf['fact_reaction_dt'])\n",
    "                                                          & (users_item_perf_stf['item_starttime'].apply(str_to_date) < \\\n",
    "                                                             users_item_perf_stf['fact_reaction_dt'].apply(str_to_date) + timedelta(days=90))]                                         "
   ]
  },
  {
   "cell_type": "code",
   "execution_count": 53,
   "metadata": {},
   "outputs": [
    {
     "data": {
      "text/html": [
       "<div>\n",
       "<style scoped>\n",
       "    .dataframe tbody tr th:only-of-type {\n",
       "        vertical-align: middle;\n",
       "    }\n",
       "\n",
       "    .dataframe tbody tr th {\n",
       "        vertical-align: top;\n",
       "    }\n",
       "\n",
       "    .dataframe thead th {\n",
       "        text-align: right;\n",
       "    }\n",
       "</style>\n",
       "<table border=\"1\" class=\"dataframe\">\n",
       "  <thead>\n",
       "    <tr style=\"text-align: right;\">\n",
       "      <th></th>\n",
       "      <th>user_id</th>\n",
       "      <th>user_registration_time</th>\n",
       "      <th>user_first_listing_date</th>\n",
       "      <th>item_id</th>\n",
       "      <th>item_starttime</th>\n",
       "      <th>item_category</th>\n",
       "      <th>item_subcategory</th>\n",
       "      <th>ticket_category</th>\n",
       "      <th>ticket_subcategory</th>\n",
       "      <th>current_state</th>\n",
       "      <th>request_id</th>\n",
       "      <th>activity_start_dt</th>\n",
       "      <th>fact_reaction_dt</th>\n",
       "      <th>result_mentioned_by_user</th>\n",
       "    </tr>\n",
       "  </thead>\n",
       "  <tbody>\n",
       "    <tr>\n",
       "      <th>174</th>\n",
       "      <td>2 755 740</td>\n",
       "      <td>2011-04-14 17:54:40</td>\n",
       "      <td>2011-04-14 18:05:27</td>\n",
       "      <td>236 841 750 254</td>\n",
       "      <td>2015-12-04 18:38:23</td>\n",
       "      <td>Транспорт</td>\n",
       "      <td>Автомобили</td>\n",
       "      <td>Блокировки и отклонения</td>\n",
       "      <td>Заблокированная учетная запись</td>\n",
       "      <td>Решено</td>\n",
       "      <td>8a587830-8150-47e5-a0fa-29b159b2a145</td>\n",
       "      <td>2015-11-05 09:15:00</td>\n",
       "      <td>2015-11-09 11:38:00</td>\n",
       "      <td>Отлично</td>\n",
       "    </tr>\n",
       "    <tr>\n",
       "      <th>176</th>\n",
       "      <td>2 755 740</td>\n",
       "      <td>2011-04-14 17:54:40</td>\n",
       "      <td>2011-04-14 18:05:27</td>\n",
       "      <td>241 368 500 063</td>\n",
       "      <td>2015-12-24 01:45:32</td>\n",
       "      <td>Услуги</td>\n",
       "      <td>Предложение услуг</td>\n",
       "      <td>Блокировки и отклонения</td>\n",
       "      <td>Заблокированная учетная запись</td>\n",
       "      <td>Решено</td>\n",
       "      <td>8a587830-8150-47e5-a0fa-29b159b2a145</td>\n",
       "      <td>2015-11-05 09:15:00</td>\n",
       "      <td>2015-11-09 11:38:00</td>\n",
       "      <td>Отлично</td>\n",
       "    </tr>\n",
       "    <tr>\n",
       "      <th>177</th>\n",
       "      <td>2 755 740</td>\n",
       "      <td>2011-04-14 17:54:40</td>\n",
       "      <td>2011-04-14 18:05:27</td>\n",
       "      <td>249 659 000 045</td>\n",
       "      <td>2016-01-13 18:21:48</td>\n",
       "      <td>Недвижимость</td>\n",
       "      <td>Квартиры</td>\n",
       "      <td>Блокировки и отклонения</td>\n",
       "      <td>Заблокированная учетная запись</td>\n",
       "      <td>Решено</td>\n",
       "      <td>8a587830-8150-47e5-a0fa-29b159b2a145</td>\n",
       "      <td>2015-11-05 09:15:00</td>\n",
       "      <td>2015-11-09 11:38:00</td>\n",
       "      <td>Отлично</td>\n",
       "    </tr>\n",
       "    <tr>\n",
       "      <th>178</th>\n",
       "      <td>2 755 740</td>\n",
       "      <td>2011-04-14 17:54:40</td>\n",
       "      <td>2011-04-14 18:05:27</td>\n",
       "      <td>251 973 750 408</td>\n",
       "      <td>2016-01-18 19:12:23</td>\n",
       "      <td>Транспорт</td>\n",
       "      <td>Автомобили</td>\n",
       "      <td>Блокировки и отклонения</td>\n",
       "      <td>Заблокированная учетная запись</td>\n",
       "      <td>Решено</td>\n",
       "      <td>8a587830-8150-47e5-a0fa-29b159b2a145</td>\n",
       "      <td>2015-11-05 09:15:00</td>\n",
       "      <td>2015-11-09 11:38:00</td>\n",
       "      <td>Отлично</td>\n",
       "    </tr>\n",
       "    <tr>\n",
       "      <th>179</th>\n",
       "      <td>2 755 740</td>\n",
       "      <td>2011-04-14 17:54:40</td>\n",
       "      <td>2011-04-14 18:05:27</td>\n",
       "      <td>249 518 000 236</td>\n",
       "      <td>2016-01-13 11:51:30</td>\n",
       "      <td>Недвижимость</td>\n",
       "      <td>Гаражи и машиноместа</td>\n",
       "      <td>Блокировки и отклонения</td>\n",
       "      <td>Заблокированная учетная запись</td>\n",
       "      <td>Решено</td>\n",
       "      <td>8a587830-8150-47e5-a0fa-29b159b2a145</td>\n",
       "      <td>2015-11-05 09:15:00</td>\n",
       "      <td>2015-11-09 11:38:00</td>\n",
       "      <td>Отлично</td>\n",
       "    </tr>\n",
       "  </tbody>\n",
       "</table>\n",
       "</div>"
      ],
      "text/plain": [
       "       user_id user_registration_time user_first_listing_date  \\\n",
       "174  2 755 740    2011-04-14 17:54:40     2011-04-14 18:05:27   \n",
       "176  2 755 740    2011-04-14 17:54:40     2011-04-14 18:05:27   \n",
       "177  2 755 740    2011-04-14 17:54:40     2011-04-14 18:05:27   \n",
       "178  2 755 740    2011-04-14 17:54:40     2011-04-14 18:05:27   \n",
       "179  2 755 740    2011-04-14 17:54:40     2011-04-14 18:05:27   \n",
       "\n",
       "             item_id       item_starttime item_category      item_subcategory  \\\n",
       "174  236 841 750 254  2015-12-04 18:38:23     Транспорт            Автомобили   \n",
       "176  241 368 500 063  2015-12-24 01:45:32        Услуги     Предложение услуг   \n",
       "177  249 659 000 045  2016-01-13 18:21:48  Недвижимость              Квартиры   \n",
       "178  251 973 750 408  2016-01-18 19:12:23     Транспорт            Автомобили   \n",
       "179  249 518 000 236  2016-01-13 11:51:30  Недвижимость  Гаражи и машиноместа   \n",
       "\n",
       "             ticket_category              ticket_subcategory current_state  \\\n",
       "174  Блокировки и отклонения  Заблокированная учетная запись        Решено   \n",
       "176  Блокировки и отклонения  Заблокированная учетная запись        Решено   \n",
       "177  Блокировки и отклонения  Заблокированная учетная запись        Решено   \n",
       "178  Блокировки и отклонения  Заблокированная учетная запись        Решено   \n",
       "179  Блокировки и отклонения  Заблокированная учетная запись        Решено   \n",
       "\n",
       "                               request_id    activity_start_dt  \\\n",
       "174  8a587830-8150-47e5-a0fa-29b159b2a145  2015-11-05 09:15:00   \n",
       "176  8a587830-8150-47e5-a0fa-29b159b2a145  2015-11-05 09:15:00   \n",
       "177  8a587830-8150-47e5-a0fa-29b159b2a145  2015-11-05 09:15:00   \n",
       "178  8a587830-8150-47e5-a0fa-29b159b2a145  2015-11-05 09:15:00   \n",
       "179  8a587830-8150-47e5-a0fa-29b159b2a145  2015-11-05 09:15:00   \n",
       "\n",
       "        fact_reaction_dt result_mentioned_by_user  \n",
       "174  2015-11-09 11:38:00                  Отлично  \n",
       "176  2015-11-09 11:38:00                  Отлично  \n",
       "177  2015-11-09 11:38:00                  Отлично  \n",
       "178  2015-11-09 11:38:00                  Отлично  \n",
       "179  2015-11-09 11:38:00                  Отлично  "
      ]
     },
     "execution_count": 53,
     "metadata": {},
     "output_type": "execute_result"
    }
   ],
   "source": [
    "users_item_perf_stf_score_after_call.head()"
   ]
  },
  {
   "cell_type": "code",
   "execution_count": 54,
   "metadata": {},
   "outputs": [],
   "source": [
    "perf_stf_amount_per_user_after = users_item_perf_stf_score_after_call.groupby('user_id')['user_id'].count()"
   ]
  },
  {
   "cell_type": "code",
   "execution_count": 56,
   "metadata": {},
   "outputs": [],
   "source": [
    "conversion_perf_stf = (perf_stf_amount_per_user_after / perf_stf_amount_per_user_before).dropna()"
   ]
  },
  {
   "cell_type": "code",
   "execution_count": 57,
   "metadata": {},
   "outputs": [],
   "source": [
    "perf_stf_users_gone = amount_NAN(perf_stf_amount_per_user_after / perf_stf_amount_per_user_before) / len(perf_stf_amount_per_user_before)"
   ]
  },
  {
   "cell_type": "code",
   "execution_count": 58,
   "metadata": {},
   "outputs": [
    {
     "data": {
      "text/plain": [
       "0.44194634517215164"
      ]
     },
     "execution_count": 58,
     "metadata": {},
     "output_type": "execute_result"
    }
   ],
   "source": [
    "perf_stf_users_gone"
   ]
  },
  {
   "cell_type": "code",
   "execution_count": 59,
   "metadata": {},
   "outputs": [
    {
     "data": {
      "text/plain": [
       "0.9655172413793104"
      ]
     },
     "execution_count": 59,
     "metadata": {},
     "output_type": "execute_result"
    }
   ],
   "source": [
    "conversion_perf_stf.median()"
   ]
  },
  {
   "cell_type": "code",
   "execution_count": 108,
   "metadata": {},
   "outputs": [
    {
     "data": {
      "text/plain": [
       "Text(0, 0.5, '')"
      ]
     },
     "execution_count": 108,
     "metadata": {},
     "output_type": "execute_result"
    },
    {
     "data": {
      "image/png": "[encoded data removed]",
      "text/plain": [
       "<Figure size 864x360 with 3 Axes>"
      ]
     },
     "metadata": {
      "image/png": {
       "height": 368,
       "width": 872
      }
     },
     "output_type": "display_data"
    }
   ],
   "source": [
    "fg = plt.figure(figsize=(12, 5), constrained_layout=True)\n",
    "gs = fg.add_gridspec(1, 3)\n",
    "\n",
    "fig_ax_1 = fg.add_subplot(gs[0, 0])\n",
    "fig_ax_1.set_title('Не удовлетворительно')\n",
    "bad_satisfaction = sns.countplot(x='item_category', data=users_item_bad_stf_score_before_call,\\\n",
    "                                 order=users_item_bad_stf_score_before_call['item_category'].value_counts().index)\n",
    "bad_satisfaction.set_xticklabels(bad_satisfaction.get_xticklabels(), rotation=40, horizontalalignment='right')\n",
    "plt.ylabel('')\n",
    "\n",
    "fig_ax_2 = fg.add_subplot(gs[0, 1])\n",
    "fig_ax_2.set_title('Удовлетворительно и лучше')\n",
    "not_bad_satisfaction = sns.countplot(x='item_category', data=users_item_not_bad_stf_score_before_call, \\\n",
    "                                    order=users_item_bad_stf_score_before_call['item_category'].value_counts().index)\n",
    "not_bad_satisfaction.set_xticklabels(not_bad_satisfaction.get_xticklabels(), rotation=40, horizontalalignment='right')\n",
    "plt.ylabel('')\n",
    "\n",
    "fig_ax_3 = fg.add_subplot(gs[0, 2])\n",
    "fig_ax_3.set_title('Отлично')\n",
    "perf_satisfaction = sns.countplot(x='item_category', data=users_item_perf_stf_score_before_call, \\\n",
    "                                 order=users_item_bad_stf_score_before_call['item_category'].value_counts().index)\n",
    "perf_satisfaction.set_xticklabels(perf_satisfaction.get_xticklabels(), rotation=40, horizontalalignment='right')\n",
    "plt.ylabel('')"
   ]
  },
  {
   "cell_type": "code",
   "execution_count": 66,
   "metadata": {},
   "outputs": [],
   "source": [
    "conversion = pd.DataFrame(index=['Не удовлетворительно', 'Удовлетворительно и лучше', 'Отлично'], columns=['percent'])\n",
    "conversion.loc['Не удовлетворительно', 'percent'] = toFixed(conversion_bad_stf.median() * 100, 2)\n",
    "conversion.loc['Удовлетворительно и лучше', 'percent'] = toFixed(conversion_not_bad_stf.median() * 100, 2)\n",
    "conversion.loc['Отлично', 'percent'] = toFixed(conversion_perf_stf.median() * 100, 2)"
   ]
  },
  {
   "cell_type": "code",
   "execution_count": 67,
   "metadata": {},
   "outputs": [
    {
     "data": {
      "text/html": [
       "<div>\n",
       "<style scoped>\n",
       "    .dataframe tbody tr th:only-of-type {\n",
       "        vertical-align: middle;\n",
       "    }\n",
       "\n",
       "    .dataframe tbody tr th {\n",
       "        vertical-align: top;\n",
       "    }\n",
       "\n",
       "    .dataframe thead th {\n",
       "        text-align: right;\n",
       "    }\n",
       "</style>\n",
       "<table border=\"1\" class=\"dataframe\">\n",
       "  <thead>\n",
       "    <tr style=\"text-align: right;\">\n",
       "      <th></th>\n",
       "      <th>percent</th>\n",
       "    </tr>\n",
       "  </thead>\n",
       "  <tbody>\n",
       "    <tr>\n",
       "      <th>Не удовлетворительно</th>\n",
       "      <td>74.07</td>\n",
       "    </tr>\n",
       "    <tr>\n",
       "      <th>Удовлетворительно и лучше</th>\n",
       "      <td>88.00</td>\n",
       "    </tr>\n",
       "    <tr>\n",
       "      <th>Отлично</th>\n",
       "      <td>96.55</td>\n",
       "    </tr>\n",
       "  </tbody>\n",
       "</table>\n",
       "</div>"
      ],
      "text/plain": [
       "                          percent\n",
       "Не удовлетворительно        74.07\n",
       "Удовлетворительно и лучше   88.00\n",
       "Отлично                     96.55"
      ]
     },
     "execution_count": 67,
     "metadata": {},
     "output_type": "execute_result"
    }
   ],
   "source": [
    "conversion"
   ]
  },
  {
   "cell_type": "code",
   "execution_count": 81,
   "metadata": {},
   "outputs": [],
   "source": [
    "res = pd.DataFrame(index=['Не удовлетворительно', 'Удовлетворительно и лучше', 'Отлично'], columns=['amount', 'conversion', 'users_before'])\n",
    "res.loc['Не удовлетворительно', 'amount'] = not_stf_amount_per_user_before.median()\n",
    "res.loc['Удовлетворительно и лучше', 'amount'] = stf_amount_per_user_before.median()\n",
    "res.loc['Отлично', 'amount'] = perf_stf_amount_per_user_before.median()\n",
    "res.loc['Не удовлетворительно', 'conversion'] = toFixed(conversion_bad_stf.median(), 2)\n",
    "res.loc['Удовлетворительно и лучше','conversion'] = toFixed(conversion_not_bad_stf.median(), 2)\n",
    "res.loc['Отлично', 'conversion'] = toFixed(conversion_perf_stf.median(), 2)\n",
    "res.loc['Не удовлетворительно', 'users_before'] = len(not_stf_amount_per_user_before)\n",
    "res.loc['Удовлетворительно и лучше','users_before'] = len(stf_amount_per_user_before)\n",
    "res.loc['Отлично', 'users_before'] = len(perf_stf_amount_per_user_before)"
   ]
  },
  {
   "cell_type": "code",
   "execution_count": 82,
   "metadata": {},
   "outputs": [
    {
     "data": {
      "text/html": [
       "<div>\n",
       "<style scoped>\n",
       "    .dataframe tbody tr th:only-of-type {\n",
       "        vertical-align: middle;\n",
       "    }\n",
       "\n",
       "    .dataframe tbody tr th {\n",
       "        vertical-align: top;\n",
       "    }\n",
       "\n",
       "    .dataframe thead th {\n",
       "        text-align: right;\n",
       "    }\n",
       "</style>\n",
       "<table border=\"1\" class=\"dataframe\">\n",
       "  <thead>\n",
       "    <tr style=\"text-align: right;\">\n",
       "      <th></th>\n",
       "      <th>amount</th>\n",
       "      <th>conversion</th>\n",
       "      <th>users_before</th>\n",
       "    </tr>\n",
       "  </thead>\n",
       "  <tbody>\n",
       "    <tr>\n",
       "      <th>Не удовлетворительно</th>\n",
       "      <td>6.0</td>\n",
       "      <td>0.74</td>\n",
       "      <td>14076.0</td>\n",
       "    </tr>\n",
       "    <tr>\n",
       "      <th>Удовлетворительно и лучше</th>\n",
       "      <td>5.0</td>\n",
       "      <td>0.88</td>\n",
       "      <td>58953.0</td>\n",
       "    </tr>\n",
       "    <tr>\n",
       "      <th>Отлично</th>\n",
       "      <td>5.0</td>\n",
       "      <td>0.97</td>\n",
       "      <td>36828.0</td>\n",
       "    </tr>\n",
       "  </tbody>\n",
       "</table>\n",
       "</div>"
      ],
      "text/plain": [
       "                           amount  conversion  users_before\n",
       "Не удовлетворительно          6.0        0.74       14076.0\n",
       "Удовлетворительно и лучше     5.0        0.88       58953.0\n",
       "Отлично                       5.0        0.97       36828.0"
      ]
     },
     "execution_count": 82,
     "metadata": {},
     "output_type": "execute_result"
    }
   ],
   "source": [
    "res = res.astype(float)\n",
    "res"
   ]
  },
  {
   "cell_type": "code",
   "execution_count": 83,
   "metadata": {},
   "outputs": [],
   "source": [
    "delta_stf = res.loc['Удовлетворительно и лучше','conversion'] - res.loc['Не удовлетворительно', 'conversion']\n",
    "delta_perf = res.loc['Отлично','conversion'] - res.loc['Не удовлетворительно', 'conversion']\n",
    "\n",
    "miss_annonce_com_stf = delta_stf * res.loc['Не удовлетворительно', 'users_before'] * \\\n",
    "                        res.loc['Не удовлетворительно', 'amount']\n",
    "miss_annonce_com_per = delta_perf * res.loc['Не удовлетворительно', 'users_before'] * \\\n",
    "                        res.loc['Не удовлетворительно', 'amount']"
   ]
  },
  {
   "cell_type": "code",
   "execution_count": 92,
   "metadata": {},
   "outputs": [
    {
     "name": "stdout",
     "output_type": "stream",
     "text": [
      "Количество потерянных объявлений в сравнение с \"Отличной\" конверсией = 19424\n",
      "Количество потерянных объявлений в сравнение с \"Удовлетворительной\" конверсией = 11823\n"
     ]
    }
   ],
   "source": [
    "print('Количество потерянных объявлений в сравнение с \"Отличной\" конверсией = {}'\\\n",
    "      .format(int(miss_annonce_com_perf)))\n",
    "print('Количество потерянных объявлений в сравнение с \"Удовлетворительной\" конверсией = {}'\\\n",
    "      .format(int(miss_annonce_com_stf)))"
   ]
  },
  {
   "cell_type": "code",
   "execution_count": 93,
   "metadata": {},
   "outputs": [],
   "source": [
    "users_gone = pd.DataFrame(index=['Не удовлетворительно', 'Удовлетворительно и лучше', 'Отлично'], columns=['percent'])\n",
    "users_gone.loc['Не удовлетворительно', 'percent'] = round(bad_stf_users_gone * 100, 2)\n",
    "users_gone.loc['Удовлетворительно и лучше', 'percent'] = round(not_bad_stf_users_gone * 100, 2)\n",
    "users_gone.loc['Отлично', 'percent'] = round(perf_stf_users_gone * 100, 2)"
   ]
  },
  {
   "cell_type": "code",
   "execution_count": 94,
   "metadata": {},
   "outputs": [
    {
     "data": {
      "text/html": [
       "<div>\n",
       "<style scoped>\n",
       "    .dataframe tbody tr th:only-of-type {\n",
       "        vertical-align: middle;\n",
       "    }\n",
       "\n",
       "    .dataframe tbody tr th {\n",
       "        vertical-align: top;\n",
       "    }\n",
       "\n",
       "    .dataframe thead th {\n",
       "        text-align: right;\n",
       "    }\n",
       "</style>\n",
       "<table border=\"1\" class=\"dataframe\">\n",
       "  <thead>\n",
       "    <tr style=\"text-align: right;\">\n",
       "      <th></th>\n",
       "      <th>percent</th>\n",
       "    </tr>\n",
       "  </thead>\n",
       "  <tbody>\n",
       "    <tr>\n",
       "      <th>Не удовлетворительно</th>\n",
       "      <td>38.24</td>\n",
       "    </tr>\n",
       "    <tr>\n",
       "      <th>Удовлетворительно и лучше</th>\n",
       "      <td>41.79</td>\n",
       "    </tr>\n",
       "    <tr>\n",
       "      <th>Отлично</th>\n",
       "      <td>44.19</td>\n",
       "    </tr>\n",
       "  </tbody>\n",
       "</table>\n",
       "</div>"
      ],
      "text/plain": [
       "                          percent\n",
       "Не удовлетворительно        38.24\n",
       "Удовлетворительно и лучше   41.79\n",
       "Отлично                     44.19"
      ]
     },
     "execution_count": 94,
     "metadata": {},
     "output_type": "execute_result"
    }
   ],
   "source": [
    "users_gone"
   ]
  },
  {
   "cell_type": "code",
   "execution_count": 141,
   "metadata": {},
   "outputs": [
    {
     "data": {
      "image/png": "[encoded data removed]",
      "text/plain": [
       "<Figure size 720x288 with 1 Axes>"
      ]
     },
     "metadata": {
      "image/png": {
       "height": 296,
       "width": 728
      }
     },
     "output_type": "display_data"
    }
   ],
   "source": [
    "import matplotlib.ticker as ticker\n",
    "\n",
    "fg = plt.figure(figsize=(10, 4), constrained_layout=True)\n",
    "users_gone_bar = sns.barplot(users_gone.index, users_gone['percent'], palette=\"Blues_d\")\n",
    "users_gone_bar.set_title(\"customer's gone %\", fontsize=15)\n",
    "plt.ylabel('')\n",
    "users_gone_bar.yaxis.set_major_locator(ticker.MultipleLocator(5))"
   ]
  }
 ],
 "metadata": {
  "kernelspec": {
   "display_name": "Python 3",
   "language": "python",
   "name": "python3"
  },
  "language_info": {
   "codemirror_mode": {
    "name": "ipython",
    "version": 3
   },
   "file_extension": ".py",
   "mimetype": "text/x-python",
   "name": "python",
   "nbconvert_exporter": "python",
   "pygments_lexer": "ipython3",
   "version": "3.7.6"
  }
 },
 "nbformat": 4,
 "nbformat_minor": 4
}
